{
 "cells": [
  {
   "cell_type": "code",
   "execution_count": 2,
   "metadata": {},
   "outputs": [],
   "source": [
    "from importlib import reload\n",
    "import os\n",
    "import ast\n",
    "\n",
    "import simple_lint\n",
    "simple_lint = reload(simple_lint)\n",
    "from simple_ast import validator\n",
    "validator = reload(validator)\n",
    "from simple_ast import validate_generator\n",
    "validate_generator = reload(validate_generator)\n",
    "from simple_ast import visitor\n",
    "visitor = reload(visitor)"
   ]
  },
  {
   "cell_type": "code",
   "execution_count": 5,
   "metadata": {},
   "outputs": [
    {
     "name": "stdout",
     "output_type": "stream",
     "text": [
      "('File called by single class name', Module big_class.py @ big_class.py:3)\n",
      "\n",
      "('Length limit', Class TooBigClass @ big_class.py:3)\n",
      "\n",
      "('Length limit', Function big_function @ big_class.py:226)\n"
     ]
    }
   ],
   "source": [
    "!python simple_lint.py rule_set.tx simple_rule_set.rules examples/big_class.py"
   ]
  },
  {
   "cell_type": "code",
   "execution_count": 6,
   "metadata": {},
   "outputs": [],
   "source": [
    "def print_all_errors(source_file_path):\n",
    "    errors = simple_lint.run_lint('rule_set.tx', 'simple_rule_set.rules', source_file_path)\n",
    "    print('\\n'.join(map(str, errors)))"
   ]
  },
  {
   "cell_type": "code",
   "execution_count": 30,
   "metadata": {},
   "outputs": [],
   "source": [
    "py_files = []\n",
    "\n",
    "for root, _, files in os.walk('.'):\n",
    "    py_files += [os.path.join(root, file) for file in files if file.endswith('.py')]"
   ]
  },
  {
   "cell_type": "code",
   "execution_count": 32,
   "metadata": {},
   "outputs": [
    {
     "data": {
      "text/plain": [
       "['.\\\\simple_lint.py',\n",
       " '.\\\\examples\\\\big_class.py',\n",
       " '.\\\\examples\\\\kek.py',\n",
       " '.\\\\examples\\\\ok_class.py',\n",
       " '.\\\\examples\\\\__big_class_in_init__.py',\n",
       " '.\\\\examples\\\\__init__.py',\n",
       " '.\\\\examples\\\\__too_long_init__.py',\n",
       " '.\\\\simple_ast\\\\model.py',\n",
       " '.\\\\simple_ast\\\\validate_generator.py',\n",
       " '.\\\\simple_ast\\\\validator.py',\n",
       " '.\\\\simple_ast\\\\visitor.py',\n",
       " '.\\\\simple_ast\\\\__init__.py',\n",
       " '.\\\\test\\\\test_all.py',\n",
       " '.\\\\test\\\\__init__.py']"
      ]
     },
     "execution_count": 32,
     "metadata": {},
     "output_type": "execute_result"
    }
   ],
   "source": [
    "py_files"
   ]
  },
  {
   "cell_type": "code",
   "execution_count": 33,
   "metadata": {},
   "outputs": [
    {
     "name": "stdout",
     "output_type": "stream",
     "text": [
      "\n",
      "('File called by single class name', Module big_class.py @ big_class.py:3)\n",
      "('Length limit', Class TooBigClass @ big_class.py:3)\n",
      "('Length limit', Function big_function @ big_class.py:226)\n",
      "\n",
      "\n",
      "('File called by single class name', Module __big_class_in_init__.py @ __big_class_in_init__.py:1)\n",
      "('Length limit', Class TooBigClass @ __big_class_in_init__.py:1)\n",
      "('Length limit', Module __big_class_in_init__.py @ __big_class_in_init__.py:1)\n",
      "('Names', Class nested_class_in_snake_case @ __big_class_in_init__.py:3)\n",
      "\n",
      "('File called by single class name', Module __too_long_init__.py @ __too_long_init__.py:1)\n",
      "('Length limit', Module __too_long_init__.py @ __too_long_init__.py:1)\n",
      "('Names', Name badVariableName @ __too_long_init__.py:4)\n",
      "('Names', Name FILE @ model.py:5)\n",
      "('Names', Name CLASS @ model.py:6)\n",
      "('Names', Name FUNCTION @ model.py:7)\n",
      "('Names', Name NAME @ model.py:8)\n",
      "('Names', Name LIKE @ model.py:19)\n",
      "('Names', Name SUB @ model.py:20)\n",
      "('Names', Name LOWER @ model.py:21)\n",
      "('Names', Name AND @ model.py:22)\n",
      "('Names', Name OR @ model.py:23)\n",
      "('Names', Name LT @ model.py:34)\n",
      "('Names', Name LTE @ model.py:35)\n",
      "('Names', Name GT @ model.py:36)\n",
      "('Names', Name GTE @ model.py:37)\n",
      "('Names', Name EQ @ model.py:38)\n",
      "('Names', Name NEQ @ model.py:39)\n",
      "\n",
      "('Names', Function visit_Module @ validator.py:24)\n",
      "('Names', Function visit_ClassDef @ validator.py:41)\n",
      "('Names', Function visit_FunctionDef @ validator.py:51)\n",
      "('Names', Function visit_Name @ validator.py:60)\n",
      "('Names', Name RULE_SET @ visitor.py:5)\n",
      "('Names', Name RULE @ visitor.py:6)\n",
      "('Names', Name LANGUAGE_PART_RULE @ visitor.py:7)\n",
      "('Names', Name IF_STATEMENT @ visitor.py:8)\n",
      "('Names', Name PASS_STATEMENT @ visitor.py:9)\n",
      "('Names', Name FUNCTION_EXPRESSION @ visitor.py:10)\n",
      "('Names', Name COMPARE_EXPRESSION @ visitor.py:11)\n",
      "('Names', Name INT_CONSTANT @ visitor.py:12)\n",
      "('Names', Name STRING_CONSTANT @ visitor.py:13)\n",
      "('Names', Name VARIABLE_WITH_PROPERTY @ visitor.py:14)\n",
      "('Names', Name ASSERT @ visitor.py:15)\n",
      "\n",
      "\n",
      "\n"
     ]
    }
   ],
   "source": [
    "for file in py_files:\n",
    "    print_all_errors(file)"
   ]
  },
  {
   "cell_type": "code",
   "execution_count": null,
   "metadata": {},
   "outputs": [],
   "source": []
  }
 ],
 "metadata": {
  "kernelspec": {
   "display_name": "Python 3",
   "language": "python",
   "name": "python3"
  },
  "language_info": {
   "codemirror_mode": {
    "name": "ipython",
    "version": 3
   },
   "file_extension": ".py",
   "mimetype": "text/x-python",
   "name": "python",
   "nbconvert_exporter": "python",
   "pygments_lexer": "ipython3",
   "version": "3.8.5"
  }
 },
 "nbformat": 4,
 "nbformat_minor": 4
}
